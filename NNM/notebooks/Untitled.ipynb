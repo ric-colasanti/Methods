{
 "cells": [
  {
   "cell_type": "code",
   "execution_count": 1,
   "id": "d7dd6cbd",
   "metadata": {},
   "outputs": [],
   "source": [
    "from IPython.display import display, HTML,clear_output\n",
    "import time"
   ]
  },
  {
   "cell_type": "code",
   "execution_count": 4,
   "id": "ca25692e",
   "metadata": {},
   "outputs": [],
   "source": [
    "class SVGCanvas:\n",
    "    def __init__(self,width,height):\n",
    "        self.width = width\n",
    "        self.height = height\n",
    "        self.html_s =\"\"\n",
    "    \n",
    "    def clear(self):\n",
    "        self.html_s = '<svg width=\"'+str(self.width)+'\" height=\"'+str(self.height)+'\"style=\"border:1px solid black\">'\n",
    "\n",
    "    def circle(self,x_pos,y_pos,r,color):\n",
    "        str_int_x = str(int((x_pos*self.width)+(r*self.width)))\n",
    "        str_int_y = str(int((y_pos*self.height)+(r*self.width)))\n",
    "        str_int_r = str(int(r*self.width))\n",
    "        self.html_s +='<circle cx=\"'+str_int_x+'\" cy=\"'+str_int_y+'\" r=\"'+str_int_r+'\" fill=\"'+color+'\"/>'\n",
    "\n",
    "    def rect(self,x_pos,y_pos,width,height,color):\n",
    "        str_int_x = str(int(x_pos*self.width))\n",
    "        str_int_y = str(int(y_pos*self.height))\n",
    "        str_int_width = str(int(width*self.width))\n",
    "        str_int_height = str(int(height*self.height))\n",
    "        self.html_s +='<rect x=\"'+str_int_x+'\" y=\"'+str_int_y+'\" width=\"'+str_int_width+'\" height=\"'+str_int_height+'\" fill=\"'+color+'\"/>'\n",
    "\n",
    "    def getCanvas(self):\n",
    "        self.html_s += \"</svg>\"\n",
    "        return HTML(self.html_s)"
   ]
  },
  {
   "cell_type": "code",
   "execution_count": 5,
   "id": "52df08e2",
   "metadata": {},
   "outputs": [
    {
     "data": {
      "text/html": [
       "<svg width=\"300\" height=\"300\"style=\"border:1px solid black\"><rect x=\"270\" y=\"0\" width=\"30\" height=\"30\" fill=\"rgb(255, 99, 71)\"/><rect x=\"150\" y=\"150\" width=\"30\" height=\"30\" fill=\"rgb(255, 99, 71)\"/><circle cx=\"105\" cy=\"135\" r=\"15\" fill=\"blue\"/></svg>"
      ],
      "text/plain": [
       "<IPython.core.display.HTML object>"
      ]
     },
     "metadata": {},
     "output_type": "display_data"
    }
   ],
   "source": [
    "svg = SVGCanvas(300,300)\n",
    "svg.clear()\n",
    "svg.rect(0.9,0.0,0.1,0.1,'rgb(255, 99, 71)')\n",
    "svg.rect(0.5,0.5,0.1,0.1,'rgb(255, 99, 71)')\n",
    "svg.circle(0.3,0.4,0.05,'blue')\n",
    "display(svg.getCanvas())"
   ]
  },
  {
   "cell_type": "code",
   "execution_count": null,
   "id": "455e4817",
   "metadata": {},
   "outputs": [],
   "source": []
  }
 ],
 "metadata": {
  "kernelspec": {
   "display_name": "Python 3.9.6 64-bit ('base': conda)",
   "language": "python",
   "name": "python396jvsc74a57bd0d938e4dfd622acf93db5716bbd56f6d72cf113e3eefb4cd1b4643855557dcb02"
  },
  "language_info": {
   "codemirror_mode": {
    "name": "ipython",
    "version": 3
   },
   "file_extension": ".py",
   "mimetype": "text/x-python",
   "name": "python",
   "nbconvert_exporter": "python",
   "pygments_lexer": "ipython3",
   "version": "3.9.6"
  }
 },
 "nbformat": 4,
 "nbformat_minor": 5
}
