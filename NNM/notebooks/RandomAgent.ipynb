{
 "cells": [
  {
   "cell_type": "code",
   "execution_count": 28,
   "source": [
    "from IPython.display import display, HTML,clear_output\n",
    "import random as rnd\n",
    "import time"
   ],
   "outputs": [],
   "metadata": {}
  },
  {
   "cell_type": "code",
   "execution_count": 56,
   "source": [
    "class SVGCanvas:\n",
    "    def __init__(self,max_number,size):\n",
    "        self.width = max_number*size\n",
    "        self.height = max_number*size\n",
    "        self.size = size\n",
    "        self.max_number = max_number\n",
    "        self.html_s =\"\"\n",
    "    \n",
    "    def clear(self):\n",
    "        self.html_s = '<svg width=\"'+str(self.width)+'\" height=\"'+str(self.height)+'\"style=\"border:1px solid black\">'\n",
    "\n",
    "    def circle(self,x_pos,y_pos,color):\n",
    "        x_pos = x_pos * self.size\n",
    "        y_pos = y_pos * self.size\n",
    "        str_int_x = str(int(x_pos))\n",
    "        str_int_y = str(int(y_pos))\n",
    "        r = 1/(self.size*2)\n",
    "        str_int_x = str(int((x_pos*self.width)+(r*self.width)))\n",
    "        str_int_y = str(int((y_pos*self.height)+(r*self.width)))\n",
    "        str_int_r = str(int(r))\n",
    "        self.html_s +='<circle cx=\"'+str_int_x+'\" cy=\"'+str_int_y+'\" r=\"'+str_int_r+'\" fill=\"'+color+'\"/>'\n",
    "    \n",
    "    def rect(self,x_pos,y_pos,color):\n",
    "        x_pos = x_pos * self.size\n",
    "        y_pos = y_pos * self.size\n",
    "        str_int_x = str(int(x_pos))\n",
    "        str_int_y = str(int(y_pos))\n",
    "        str_int_width = str(int(self.size))\n",
    "        str_int_height = str(int(self.size))\n",
    "        self.html_s +='<rect x=\"'+str_int_x+'\" y=\"'+str_int_y+'\" width=\"'+str_int_width+'\" height=\"'+str_int_height+'\" fill=\"'+color+'\"/>'\n",
    "\n",
    "    def getCanvas(self):\n",
    "        self.html_s += \"</svg>\"\n",
    "        return HTML(self.html_s)"
   ],
   "outputs": [],
   "metadata": {}
  },
  {
   "cell_type": "code",
   "execution_count": 57,
   "source": [
    "class Counter:\n",
    "    def __init__(self):\n",
    "        self.tnow =0\n",
    "        self.tnext = 1\n",
    "        \n",
    "    def update(self):\n",
    "        # This switches the 0 1 state of now and next\n",
    "        self.tnow = (self.tnow+1) % 2\n",
    "        self.tnext = (self.tnext+1) % 2"
   ],
   "outputs": [],
   "metadata": {}
  },
  {
   "cell_type": "code",
   "execution_count": 58,
   "source": [
    "class Cell:\n",
    "    max_resource = 30\n",
    "    def __init__(self,x_pos,y_pos,svg,counter):\n",
    "        self.neighbours = []\n",
    "        self.number_of_neighbours=-1\n",
    "        self.x_pos = x_pos\n",
    "        self.y_pos = y_pos\n",
    "        self.svg = svg\n",
    "        self.resource =0.0\n",
    "        self.counter = counter\n",
    "        self.occupant = None\n",
    "        \n",
    "    def addNeighbour(self,cell):\n",
    "        self.neighbours.append(cell)\n",
    "        self.number_of_neighbours+=1\n",
    "    \n",
    "    def randomNeighbour(self):\n",
    "        return rnd.choice(self.neighbours)\n",
    "    \n",
    "    \n",
    "    @property\n",
    "    def resource_rgb(self):\n",
    "        return str(int(255-(self.resource*255)/Cell.max_resource))\n",
    "    \n",
    "    @property\n",
    "    def empty(self):\n",
    "        return self.occupant == None\n",
    "    \n",
    "    def draw(self):\n",
    "        self.svg.rect(self.x_pos,self.y_pos,'rgb(255,'+self.resource_rgb+','+self.resource_rgb+')')\n",
    "        if self.occupant !=None:\n",
    "            self.svg.circle(self.x_pos,self.y_pos,'blue')\n",
    "    \n",
    "    def paint(self,color):\n",
    "        self.svg.rect(self.x_pos,self.y_pos,color)\n",
    "\n",
    "    def printPos(self):\n",
    "        print(\"x_pos:\",self.x_pos)\n",
    "        print(\"y_pos:\",self.y_pos)\n",
    "\n",
    "    def print(self):\n",
    "        self.printPos()\n",
    "        print()\n",
    "        for cell in self.neighbours:\n",
    "            cell.printPos()\n",
    "        print()\n",
    "\n",
    "    def search_res(self,depth):\n",
    "        print(\"here\",depth)\n",
    "        max = [self.resource,0,self]\n",
    "        off_set = rnd.randint(0,4)\n",
    "        for i in range(4):\n",
    "            c = (i+off_set)%4\n",
    "            cell = self\n",
    "            for j in range(depth):\n",
    "                cell = cell.neighbours[c]\n",
    "                res = cell.resource\n",
    "                if res> max[0]:\n",
    "                    max=[res,j,cell]\n",
    "                print(res,c,off_set,i)\n",
    "        print()\n",
    "        print(max)\n",
    "        print(self.x_pos,self.y_pos)\n",
    "\n",
    "                "
   ],
   "outputs": [],
   "metadata": {}
  },
  {
   "cell_type": "code",
   "execution_count": 59,
   "source": [
    "class Agent:\n",
    "    def __init__(self,home,counter):\n",
    "        self.home = home\n",
    "        self.home.occupant = self\n",
    "        self.counter = counter\n",
    "    \n",
    "    def randomMove(self):\n",
    "        move_to = self.home.randomNeighbour()\n",
    "        if move_to.empty:\n",
    "            self.home.occupant = None\n",
    "            self.home = move_to\n",
    "            self.home.occupant = self\n",
    "    "
   ],
   "outputs": [],
   "metadata": {}
  },
  {
   "cell_type": "code",
   "execution_count": 61,
   "source": [
    "class Experiment:\n",
    "    def __init__(self,size):        \n",
    "        self.cells = []\n",
    "        self.agents =[]\n",
    "        self.size = size\n",
    "        self.total_cells = size*size\n",
    "        self.svg = SVGCanvas(size,15)\n",
    "        \n",
    "\n",
    "    def setUp(self,agents):\n",
    "        self.cells = []\n",
    "        self.agents = []\n",
    "        self.counter = Counter()\n",
    "        \n",
    "        for i in range(self.size*self.size):\n",
    "            n_cell = Cell((i%self.size),int(i/self.size),self.svg,self.counter)\n",
    "            n_cell.resource = (i%self.size)+int(i/self.size)\n",
    "            self.cells.append(n_cell)\n",
    "        for cell in self.cells:\n",
    "            for d_pos in[(-1,0),(0,-1),(1,0),(0,1)]:\n",
    "                x=self.bounds(cell.x_pos+d_pos[0])\n",
    "                y=self.bounds(cell.y_pos+d_pos[1])\n",
    "                pos = y*self.size+x\n",
    "                cell.addNeighbour(self.cells[pos])\n",
    "        for _ in range(agents):\n",
    "            home = rnd.choice(self.cells)\n",
    "            if home.empty:\n",
    "                agent = Agent(home,self.counter)\n",
    "                self.agents.append(agent)\n",
    "        \n",
    "    def bounds(self,i):\n",
    "        if i<0:\n",
    "            return self.size + i \n",
    "        if i>=self.size:\n",
    "            return i-self.size\n",
    "        return i\n",
    "        \n",
    "    def iterate(self):\n",
    "        rnd.shuffle(self.agents)\n",
    "        for agent in self.agents:\n",
    "            agent.randomMove()\n",
    "        self.draw()\n",
    "        \n",
    "    def draw(self):\n",
    "        self.svg.clear()\n",
    "        for cell in self.cells:\n",
    "            cell.draw()\n",
    "        clear_output(wait=True)\n",
    "        display(self.svg.getCanvas())\n"
   ],
   "outputs": [],
   "metadata": {}
  },
  {
   "cell_type": "code",
   "execution_count": 62,
   "source": [
    "experiment = Experiment(16)\n",
    "experiment.setUp(0)\n",
    "experiment.svg.clear()\n",
    "for m_cell in experiment.cells:\n",
    "     m_cell.draw()\n",
    "#     for cell in m_cell.neighbours:\n",
    "#        cell.paint(\"blue\")\n",
    "clear_output(wait=True)\n",
    "display(experiment.svg.getCanvas())\n",
    "#     print(m_cell.x_pos,m_cell.y_pos)\n",
    "#     time.sleep(0.1)"
   ],
   "outputs": [
    {
     "output_type": "display_data",
     "data": {
      "text/html": [
       "<svg width=\"240\" height=\"240\"style=\"border:1px solid black\"><rect x=\"0\" y=\"0\" width=\"15\" height=\"15\" fill=\"rgb(255,255,255)\"/><rect x=\"15\" y=\"0\" width=\"15\" height=\"15\" fill=\"rgb(255,246,246)\"/><rect x=\"30\" y=\"0\" width=\"15\" height=\"15\" fill=\"rgb(255,238,238)\"/><rect x=\"45\" y=\"0\" width=\"15\" height=\"15\" fill=\"rgb(255,229,229)\"/><rect x=\"60\" y=\"0\" width=\"15\" height=\"15\" fill=\"rgb(255,221,221)\"/><rect x=\"75\" y=\"0\" width=\"15\" height=\"15\" fill=\"rgb(255,212,212)\"/><rect x=\"90\" y=\"0\" width=\"15\" height=\"15\" fill=\"rgb(255,204,204)\"/><rect x=\"105\" y=\"0\" width=\"15\" height=\"15\" fill=\"rgb(255,195,195)\"/><rect x=\"120\" y=\"0\" width=\"15\" height=\"15\" fill=\"rgb(255,187,187)\"/><rect x=\"135\" y=\"0\" width=\"15\" height=\"15\" fill=\"rgb(255,178,178)\"/><rect x=\"150\" y=\"0\" width=\"15\" height=\"15\" fill=\"rgb(255,170,170)\"/><rect x=\"165\" y=\"0\" width=\"15\" height=\"15\" fill=\"rgb(255,161,161)\"/><rect x=\"180\" y=\"0\" width=\"15\" height=\"15\" fill=\"rgb(255,153,153)\"/><rect x=\"195\" y=\"0\" width=\"15\" height=\"15\" fill=\"rgb(255,144,144)\"/><rect x=\"210\" y=\"0\" width=\"15\" height=\"15\" fill=\"rgb(255,136,136)\"/><rect x=\"225\" y=\"0\" width=\"15\" height=\"15\" fill=\"rgb(255,127,127)\"/><rect x=\"0\" y=\"15\" width=\"15\" height=\"15\" fill=\"rgb(255,246,246)\"/><rect x=\"15\" y=\"15\" width=\"15\" height=\"15\" fill=\"rgb(255,238,238)\"/><rect x=\"30\" y=\"15\" width=\"15\" height=\"15\" fill=\"rgb(255,229,229)\"/><rect x=\"45\" y=\"15\" width=\"15\" height=\"15\" fill=\"rgb(255,221,221)\"/><rect x=\"60\" y=\"15\" width=\"15\" height=\"15\" fill=\"rgb(255,212,212)\"/><rect x=\"75\" y=\"15\" width=\"15\" height=\"15\" fill=\"rgb(255,204,204)\"/><rect x=\"90\" y=\"15\" width=\"15\" height=\"15\" fill=\"rgb(255,195,195)\"/><rect x=\"105\" y=\"15\" width=\"15\" height=\"15\" fill=\"rgb(255,187,187)\"/><rect x=\"120\" y=\"15\" width=\"15\" height=\"15\" fill=\"rgb(255,178,178)\"/><rect x=\"135\" y=\"15\" width=\"15\" height=\"15\" fill=\"rgb(255,170,170)\"/><rect x=\"150\" y=\"15\" width=\"15\" height=\"15\" fill=\"rgb(255,161,161)\"/><rect x=\"165\" y=\"15\" width=\"15\" height=\"15\" fill=\"rgb(255,153,153)\"/><rect x=\"180\" y=\"15\" width=\"15\" height=\"15\" fill=\"rgb(255,144,144)\"/><rect x=\"195\" y=\"15\" width=\"15\" height=\"15\" fill=\"rgb(255,136,136)\"/><rect x=\"210\" y=\"15\" width=\"15\" height=\"15\" fill=\"rgb(255,127,127)\"/><rect x=\"225\" y=\"15\" width=\"15\" height=\"15\" fill=\"rgb(255,119,119)\"/><rect x=\"0\" y=\"30\" width=\"15\" height=\"15\" fill=\"rgb(255,238,238)\"/><rect x=\"15\" y=\"30\" width=\"15\" height=\"15\" fill=\"rgb(255,229,229)\"/><rect x=\"30\" y=\"30\" width=\"15\" height=\"15\" fill=\"rgb(255,221,221)\"/><rect x=\"45\" y=\"30\" width=\"15\" height=\"15\" fill=\"rgb(255,212,212)\"/><rect x=\"60\" y=\"30\" width=\"15\" height=\"15\" fill=\"rgb(255,204,204)\"/><rect x=\"75\" y=\"30\" width=\"15\" height=\"15\" fill=\"rgb(255,195,195)\"/><rect x=\"90\" y=\"30\" width=\"15\" height=\"15\" fill=\"rgb(255,187,187)\"/><rect x=\"105\" y=\"30\" width=\"15\" height=\"15\" fill=\"rgb(255,178,178)\"/><rect x=\"120\" y=\"30\" width=\"15\" height=\"15\" fill=\"rgb(255,170,170)\"/><rect x=\"135\" y=\"30\" width=\"15\" height=\"15\" fill=\"rgb(255,161,161)\"/><rect x=\"150\" y=\"30\" width=\"15\" height=\"15\" fill=\"rgb(255,153,153)\"/><rect x=\"165\" y=\"30\" width=\"15\" height=\"15\" fill=\"rgb(255,144,144)\"/><rect x=\"180\" y=\"30\" width=\"15\" height=\"15\" fill=\"rgb(255,136,136)\"/><rect x=\"195\" y=\"30\" width=\"15\" height=\"15\" fill=\"rgb(255,127,127)\"/><rect x=\"210\" y=\"30\" width=\"15\" height=\"15\" fill=\"rgb(255,119,119)\"/><rect x=\"225\" y=\"30\" width=\"15\" height=\"15\" fill=\"rgb(255,110,110)\"/><rect x=\"0\" y=\"45\" width=\"15\" height=\"15\" fill=\"rgb(255,229,229)\"/><rect x=\"15\" y=\"45\" width=\"15\" height=\"15\" fill=\"rgb(255,221,221)\"/><rect x=\"30\" y=\"45\" width=\"15\" height=\"15\" fill=\"rgb(255,212,212)\"/><rect x=\"45\" y=\"45\" width=\"15\" height=\"15\" fill=\"rgb(255,204,204)\"/><rect x=\"60\" y=\"45\" width=\"15\" height=\"15\" fill=\"rgb(255,195,195)\"/><rect x=\"75\" y=\"45\" width=\"15\" height=\"15\" fill=\"rgb(255,187,187)\"/><rect x=\"90\" y=\"45\" width=\"15\" height=\"15\" fill=\"rgb(255,178,178)\"/><rect x=\"105\" y=\"45\" width=\"15\" height=\"15\" fill=\"rgb(255,170,170)\"/><rect x=\"120\" y=\"45\" width=\"15\" height=\"15\" fill=\"rgb(255,161,161)\"/><rect x=\"135\" y=\"45\" width=\"15\" height=\"15\" fill=\"rgb(255,153,153)\"/><rect x=\"150\" y=\"45\" width=\"15\" height=\"15\" fill=\"rgb(255,144,144)\"/><rect x=\"165\" y=\"45\" width=\"15\" height=\"15\" fill=\"rgb(255,136,136)\"/><rect x=\"180\" y=\"45\" width=\"15\" height=\"15\" fill=\"rgb(255,127,127)\"/><rect x=\"195\" y=\"45\" width=\"15\" height=\"15\" fill=\"rgb(255,119,119)\"/><rect x=\"210\" y=\"45\" width=\"15\" height=\"15\" fill=\"rgb(255,110,110)\"/><rect x=\"225\" y=\"45\" width=\"15\" height=\"15\" fill=\"rgb(255,102,102)\"/><rect x=\"0\" y=\"60\" width=\"15\" height=\"15\" fill=\"rgb(255,221,221)\"/><rect x=\"15\" y=\"60\" width=\"15\" height=\"15\" fill=\"rgb(255,212,212)\"/><rect x=\"30\" y=\"60\" width=\"15\" height=\"15\" fill=\"rgb(255,204,204)\"/><rect x=\"45\" y=\"60\" width=\"15\" height=\"15\" fill=\"rgb(255,195,195)\"/><rect x=\"60\" y=\"60\" width=\"15\" height=\"15\" fill=\"rgb(255,187,187)\"/><rect x=\"75\" y=\"60\" width=\"15\" height=\"15\" fill=\"rgb(255,178,178)\"/><rect x=\"90\" y=\"60\" width=\"15\" height=\"15\" fill=\"rgb(255,170,170)\"/><rect x=\"105\" y=\"60\" width=\"15\" height=\"15\" fill=\"rgb(255,161,161)\"/><rect x=\"120\" y=\"60\" width=\"15\" height=\"15\" fill=\"rgb(255,153,153)\"/><rect x=\"135\" y=\"60\" width=\"15\" height=\"15\" fill=\"rgb(255,144,144)\"/><rect x=\"150\" y=\"60\" width=\"15\" height=\"15\" fill=\"rgb(255,136,136)\"/><rect x=\"165\" y=\"60\" width=\"15\" height=\"15\" fill=\"rgb(255,127,127)\"/><rect x=\"180\" y=\"60\" width=\"15\" height=\"15\" fill=\"rgb(255,119,119)\"/><rect x=\"195\" y=\"60\" width=\"15\" height=\"15\" fill=\"rgb(255,110,110)\"/><rect x=\"210\" y=\"60\" width=\"15\" height=\"15\" fill=\"rgb(255,102,102)\"/><rect x=\"225\" y=\"60\" width=\"15\" height=\"15\" fill=\"rgb(255,93,93)\"/><rect x=\"0\" y=\"75\" width=\"15\" height=\"15\" fill=\"rgb(255,212,212)\"/><rect x=\"15\" y=\"75\" width=\"15\" height=\"15\" fill=\"rgb(255,204,204)\"/><rect x=\"30\" y=\"75\" width=\"15\" height=\"15\" fill=\"rgb(255,195,195)\"/><rect x=\"45\" y=\"75\" width=\"15\" height=\"15\" fill=\"rgb(255,187,187)\"/><rect x=\"60\" y=\"75\" width=\"15\" height=\"15\" fill=\"rgb(255,178,178)\"/><rect x=\"75\" y=\"75\" width=\"15\" height=\"15\" fill=\"rgb(255,170,170)\"/><rect x=\"90\" y=\"75\" width=\"15\" height=\"15\" fill=\"rgb(255,161,161)\"/><rect x=\"105\" y=\"75\" width=\"15\" height=\"15\" fill=\"rgb(255,153,153)\"/><rect x=\"120\" y=\"75\" width=\"15\" height=\"15\" fill=\"rgb(255,144,144)\"/><rect x=\"135\" y=\"75\" width=\"15\" height=\"15\" fill=\"rgb(255,136,136)\"/><rect x=\"150\" y=\"75\" width=\"15\" height=\"15\" fill=\"rgb(255,127,127)\"/><rect x=\"165\" y=\"75\" width=\"15\" height=\"15\" fill=\"rgb(255,119,119)\"/><rect x=\"180\" y=\"75\" width=\"15\" height=\"15\" fill=\"rgb(255,110,110)\"/><rect x=\"195\" y=\"75\" width=\"15\" height=\"15\" fill=\"rgb(255,102,102)\"/><rect x=\"210\" y=\"75\" width=\"15\" height=\"15\" fill=\"rgb(255,93,93)\"/><rect x=\"225\" y=\"75\" width=\"15\" height=\"15\" fill=\"rgb(255,85,85)\"/><rect x=\"0\" y=\"90\" width=\"15\" height=\"15\" fill=\"rgb(255,204,204)\"/><rect x=\"15\" y=\"90\" width=\"15\" height=\"15\" fill=\"rgb(255,195,195)\"/><rect x=\"30\" y=\"90\" width=\"15\" height=\"15\" fill=\"rgb(255,187,187)\"/><rect x=\"45\" y=\"90\" width=\"15\" height=\"15\" fill=\"rgb(255,178,178)\"/><rect x=\"60\" y=\"90\" width=\"15\" height=\"15\" fill=\"rgb(255,170,170)\"/><rect x=\"75\" y=\"90\" width=\"15\" height=\"15\" fill=\"rgb(255,161,161)\"/><rect x=\"90\" y=\"90\" width=\"15\" height=\"15\" fill=\"rgb(255,153,153)\"/><rect x=\"105\" y=\"90\" width=\"15\" height=\"15\" fill=\"rgb(255,144,144)\"/><rect x=\"120\" y=\"90\" width=\"15\" height=\"15\" fill=\"rgb(255,136,136)\"/><rect x=\"135\" y=\"90\" width=\"15\" height=\"15\" fill=\"rgb(255,127,127)\"/><rect x=\"150\" y=\"90\" width=\"15\" height=\"15\" fill=\"rgb(255,119,119)\"/><rect x=\"165\" y=\"90\" width=\"15\" height=\"15\" fill=\"rgb(255,110,110)\"/><rect x=\"180\" y=\"90\" width=\"15\" height=\"15\" fill=\"rgb(255,102,102)\"/><rect x=\"195\" y=\"90\" width=\"15\" height=\"15\" fill=\"rgb(255,93,93)\"/><rect x=\"210\" y=\"90\" width=\"15\" height=\"15\" fill=\"rgb(255,85,85)\"/><rect x=\"225\" y=\"90\" width=\"15\" height=\"15\" fill=\"rgb(255,76,76)\"/><rect x=\"0\" y=\"105\" width=\"15\" height=\"15\" fill=\"rgb(255,195,195)\"/><rect x=\"15\" y=\"105\" width=\"15\" height=\"15\" fill=\"rgb(255,187,187)\"/><rect x=\"30\" y=\"105\" width=\"15\" height=\"15\" fill=\"rgb(255,178,178)\"/><rect x=\"45\" y=\"105\" width=\"15\" height=\"15\" fill=\"rgb(255,170,170)\"/><rect x=\"60\" y=\"105\" width=\"15\" height=\"15\" fill=\"rgb(255,161,161)\"/><rect x=\"75\" y=\"105\" width=\"15\" height=\"15\" fill=\"rgb(255,153,153)\"/><rect x=\"90\" y=\"105\" width=\"15\" height=\"15\" fill=\"rgb(255,144,144)\"/><rect x=\"105\" y=\"105\" width=\"15\" height=\"15\" fill=\"rgb(255,136,136)\"/><rect x=\"120\" y=\"105\" width=\"15\" height=\"15\" fill=\"rgb(255,127,127)\"/><rect x=\"135\" y=\"105\" width=\"15\" height=\"15\" fill=\"rgb(255,119,119)\"/><rect x=\"150\" y=\"105\" width=\"15\" height=\"15\" fill=\"rgb(255,110,110)\"/><rect x=\"165\" y=\"105\" width=\"15\" height=\"15\" fill=\"rgb(255,102,102)\"/><rect x=\"180\" y=\"105\" width=\"15\" height=\"15\" fill=\"rgb(255,93,93)\"/><rect x=\"195\" y=\"105\" width=\"15\" height=\"15\" fill=\"rgb(255,85,85)\"/><rect x=\"210\" y=\"105\" width=\"15\" height=\"15\" fill=\"rgb(255,76,76)\"/><rect x=\"225\" y=\"105\" width=\"15\" height=\"15\" fill=\"rgb(255,68,68)\"/><rect x=\"0\" y=\"120\" width=\"15\" height=\"15\" fill=\"rgb(255,187,187)\"/><rect x=\"15\" y=\"120\" width=\"15\" height=\"15\" fill=\"rgb(255,178,178)\"/><rect x=\"30\" y=\"120\" width=\"15\" height=\"15\" fill=\"rgb(255,170,170)\"/><rect x=\"45\" y=\"120\" width=\"15\" height=\"15\" fill=\"rgb(255,161,161)\"/><rect x=\"60\" y=\"120\" width=\"15\" height=\"15\" fill=\"rgb(255,153,153)\"/><rect x=\"75\" y=\"120\" width=\"15\" height=\"15\" fill=\"rgb(255,144,144)\"/><rect x=\"90\" y=\"120\" width=\"15\" height=\"15\" fill=\"rgb(255,136,136)\"/><rect x=\"105\" y=\"120\" width=\"15\" height=\"15\" fill=\"rgb(255,127,127)\"/><rect x=\"120\" y=\"120\" width=\"15\" height=\"15\" fill=\"rgb(255,119,119)\"/><rect x=\"135\" y=\"120\" width=\"15\" height=\"15\" fill=\"rgb(255,110,110)\"/><rect x=\"150\" y=\"120\" width=\"15\" height=\"15\" fill=\"rgb(255,102,102)\"/><rect x=\"165\" y=\"120\" width=\"15\" height=\"15\" fill=\"rgb(255,93,93)\"/><rect x=\"180\" y=\"120\" width=\"15\" height=\"15\" fill=\"rgb(255,85,85)\"/><rect x=\"195\" y=\"120\" width=\"15\" height=\"15\" fill=\"rgb(255,76,76)\"/><rect x=\"210\" y=\"120\" width=\"15\" height=\"15\" fill=\"rgb(255,68,68)\"/><rect x=\"225\" y=\"120\" width=\"15\" height=\"15\" fill=\"rgb(255,59,59)\"/><rect x=\"0\" y=\"135\" width=\"15\" height=\"15\" fill=\"rgb(255,178,178)\"/><rect x=\"15\" y=\"135\" width=\"15\" height=\"15\" fill=\"rgb(255,170,170)\"/><rect x=\"30\" y=\"135\" width=\"15\" height=\"15\" fill=\"rgb(255,161,161)\"/><rect x=\"45\" y=\"135\" width=\"15\" height=\"15\" fill=\"rgb(255,153,153)\"/><rect x=\"60\" y=\"135\" width=\"15\" height=\"15\" fill=\"rgb(255,144,144)\"/><rect x=\"75\" y=\"135\" width=\"15\" height=\"15\" fill=\"rgb(255,136,136)\"/><rect x=\"90\" y=\"135\" width=\"15\" height=\"15\" fill=\"rgb(255,127,127)\"/><rect x=\"105\" y=\"135\" width=\"15\" height=\"15\" fill=\"rgb(255,119,119)\"/><rect x=\"120\" y=\"135\" width=\"15\" height=\"15\" fill=\"rgb(255,110,110)\"/><rect x=\"135\" y=\"135\" width=\"15\" height=\"15\" fill=\"rgb(255,102,102)\"/><rect x=\"150\" y=\"135\" width=\"15\" height=\"15\" fill=\"rgb(255,93,93)\"/><rect x=\"165\" y=\"135\" width=\"15\" height=\"15\" fill=\"rgb(255,85,85)\"/><rect x=\"180\" y=\"135\" width=\"15\" height=\"15\" fill=\"rgb(255,76,76)\"/><rect x=\"195\" y=\"135\" width=\"15\" height=\"15\" fill=\"rgb(255,68,68)\"/><rect x=\"210\" y=\"135\" width=\"15\" height=\"15\" fill=\"rgb(255,59,59)\"/><rect x=\"225\" y=\"135\" width=\"15\" height=\"15\" fill=\"rgb(255,51,51)\"/><rect x=\"0\" y=\"150\" width=\"15\" height=\"15\" fill=\"rgb(255,170,170)\"/><rect x=\"15\" y=\"150\" width=\"15\" height=\"15\" fill=\"rgb(255,161,161)\"/><rect x=\"30\" y=\"150\" width=\"15\" height=\"15\" fill=\"rgb(255,153,153)\"/><rect x=\"45\" y=\"150\" width=\"15\" height=\"15\" fill=\"rgb(255,144,144)\"/><rect x=\"60\" y=\"150\" width=\"15\" height=\"15\" fill=\"rgb(255,136,136)\"/><rect x=\"75\" y=\"150\" width=\"15\" height=\"15\" fill=\"rgb(255,127,127)\"/><rect x=\"90\" y=\"150\" width=\"15\" height=\"15\" fill=\"rgb(255,119,119)\"/><rect x=\"105\" y=\"150\" width=\"15\" height=\"15\" fill=\"rgb(255,110,110)\"/><rect x=\"120\" y=\"150\" width=\"15\" height=\"15\" fill=\"rgb(255,102,102)\"/><rect x=\"135\" y=\"150\" width=\"15\" height=\"15\" fill=\"rgb(255,93,93)\"/><rect x=\"150\" y=\"150\" width=\"15\" height=\"15\" fill=\"rgb(255,85,85)\"/><rect x=\"165\" y=\"150\" width=\"15\" height=\"15\" fill=\"rgb(255,76,76)\"/><rect x=\"180\" y=\"150\" width=\"15\" height=\"15\" fill=\"rgb(255,68,68)\"/><rect x=\"195\" y=\"150\" width=\"15\" height=\"15\" fill=\"rgb(255,59,59)\"/><rect x=\"210\" y=\"150\" width=\"15\" height=\"15\" fill=\"rgb(255,51,51)\"/><rect x=\"225\" y=\"150\" width=\"15\" height=\"15\" fill=\"rgb(255,42,42)\"/><rect x=\"0\" y=\"165\" width=\"15\" height=\"15\" fill=\"rgb(255,161,161)\"/><rect x=\"15\" y=\"165\" width=\"15\" height=\"15\" fill=\"rgb(255,153,153)\"/><rect x=\"30\" y=\"165\" width=\"15\" height=\"15\" fill=\"rgb(255,144,144)\"/><rect x=\"45\" y=\"165\" width=\"15\" height=\"15\" fill=\"rgb(255,136,136)\"/><rect x=\"60\" y=\"165\" width=\"15\" height=\"15\" fill=\"rgb(255,127,127)\"/><rect x=\"75\" y=\"165\" width=\"15\" height=\"15\" fill=\"rgb(255,119,119)\"/><rect x=\"90\" y=\"165\" width=\"15\" height=\"15\" fill=\"rgb(255,110,110)\"/><rect x=\"105\" y=\"165\" width=\"15\" height=\"15\" fill=\"rgb(255,102,102)\"/><rect x=\"120\" y=\"165\" width=\"15\" height=\"15\" fill=\"rgb(255,93,93)\"/><rect x=\"135\" y=\"165\" width=\"15\" height=\"15\" fill=\"rgb(255,85,85)\"/><rect x=\"150\" y=\"165\" width=\"15\" height=\"15\" fill=\"rgb(255,76,76)\"/><rect x=\"165\" y=\"165\" width=\"15\" height=\"15\" fill=\"rgb(255,68,68)\"/><rect x=\"180\" y=\"165\" width=\"15\" height=\"15\" fill=\"rgb(255,59,59)\"/><rect x=\"195\" y=\"165\" width=\"15\" height=\"15\" fill=\"rgb(255,51,51)\"/><rect x=\"210\" y=\"165\" width=\"15\" height=\"15\" fill=\"rgb(255,42,42)\"/><rect x=\"225\" y=\"165\" width=\"15\" height=\"15\" fill=\"rgb(255,34,34)\"/><rect x=\"0\" y=\"180\" width=\"15\" height=\"15\" fill=\"rgb(255,153,153)\"/><rect x=\"15\" y=\"180\" width=\"15\" height=\"15\" fill=\"rgb(255,144,144)\"/><rect x=\"30\" y=\"180\" width=\"15\" height=\"15\" fill=\"rgb(255,136,136)\"/><rect x=\"45\" y=\"180\" width=\"15\" height=\"15\" fill=\"rgb(255,127,127)\"/><rect x=\"60\" y=\"180\" width=\"15\" height=\"15\" fill=\"rgb(255,119,119)\"/><rect x=\"75\" y=\"180\" width=\"15\" height=\"15\" fill=\"rgb(255,110,110)\"/><rect x=\"90\" y=\"180\" width=\"15\" height=\"15\" fill=\"rgb(255,102,102)\"/><rect x=\"105\" y=\"180\" width=\"15\" height=\"15\" fill=\"rgb(255,93,93)\"/><rect x=\"120\" y=\"180\" width=\"15\" height=\"15\" fill=\"rgb(255,85,85)\"/><rect x=\"135\" y=\"180\" width=\"15\" height=\"15\" fill=\"rgb(255,76,76)\"/><rect x=\"150\" y=\"180\" width=\"15\" height=\"15\" fill=\"rgb(255,68,68)\"/><rect x=\"165\" y=\"180\" width=\"15\" height=\"15\" fill=\"rgb(255,59,59)\"/><rect x=\"180\" y=\"180\" width=\"15\" height=\"15\" fill=\"rgb(255,51,51)\"/><rect x=\"195\" y=\"180\" width=\"15\" height=\"15\" fill=\"rgb(255,42,42)\"/><rect x=\"210\" y=\"180\" width=\"15\" height=\"15\" fill=\"rgb(255,34,34)\"/><rect x=\"225\" y=\"180\" width=\"15\" height=\"15\" fill=\"rgb(255,25,25)\"/><rect x=\"0\" y=\"195\" width=\"15\" height=\"15\" fill=\"rgb(255,144,144)\"/><rect x=\"15\" y=\"195\" width=\"15\" height=\"15\" fill=\"rgb(255,136,136)\"/><rect x=\"30\" y=\"195\" width=\"15\" height=\"15\" fill=\"rgb(255,127,127)\"/><rect x=\"45\" y=\"195\" width=\"15\" height=\"15\" fill=\"rgb(255,119,119)\"/><rect x=\"60\" y=\"195\" width=\"15\" height=\"15\" fill=\"rgb(255,110,110)\"/><rect x=\"75\" y=\"195\" width=\"15\" height=\"15\" fill=\"rgb(255,102,102)\"/><rect x=\"90\" y=\"195\" width=\"15\" height=\"15\" fill=\"rgb(255,93,93)\"/><rect x=\"105\" y=\"195\" width=\"15\" height=\"15\" fill=\"rgb(255,85,85)\"/><rect x=\"120\" y=\"195\" width=\"15\" height=\"15\" fill=\"rgb(255,76,76)\"/><rect x=\"135\" y=\"195\" width=\"15\" height=\"15\" fill=\"rgb(255,68,68)\"/><rect x=\"150\" y=\"195\" width=\"15\" height=\"15\" fill=\"rgb(255,59,59)\"/><rect x=\"165\" y=\"195\" width=\"15\" height=\"15\" fill=\"rgb(255,51,51)\"/><rect x=\"180\" y=\"195\" width=\"15\" height=\"15\" fill=\"rgb(255,42,42)\"/><rect x=\"195\" y=\"195\" width=\"15\" height=\"15\" fill=\"rgb(255,34,34)\"/><rect x=\"210\" y=\"195\" width=\"15\" height=\"15\" fill=\"rgb(255,25,25)\"/><rect x=\"225\" y=\"195\" width=\"15\" height=\"15\" fill=\"rgb(255,17,17)\"/><rect x=\"0\" y=\"210\" width=\"15\" height=\"15\" fill=\"rgb(255,136,136)\"/><rect x=\"15\" y=\"210\" width=\"15\" height=\"15\" fill=\"rgb(255,127,127)\"/><rect x=\"30\" y=\"210\" width=\"15\" height=\"15\" fill=\"rgb(255,119,119)\"/><rect x=\"45\" y=\"210\" width=\"15\" height=\"15\" fill=\"rgb(255,110,110)\"/><rect x=\"60\" y=\"210\" width=\"15\" height=\"15\" fill=\"rgb(255,102,102)\"/><rect x=\"75\" y=\"210\" width=\"15\" height=\"15\" fill=\"rgb(255,93,93)\"/><rect x=\"90\" y=\"210\" width=\"15\" height=\"15\" fill=\"rgb(255,85,85)\"/><rect x=\"105\" y=\"210\" width=\"15\" height=\"15\" fill=\"rgb(255,76,76)\"/><rect x=\"120\" y=\"210\" width=\"15\" height=\"15\" fill=\"rgb(255,68,68)\"/><rect x=\"135\" y=\"210\" width=\"15\" height=\"15\" fill=\"rgb(255,59,59)\"/><rect x=\"150\" y=\"210\" width=\"15\" height=\"15\" fill=\"rgb(255,51,51)\"/><rect x=\"165\" y=\"210\" width=\"15\" height=\"15\" fill=\"rgb(255,42,42)\"/><rect x=\"180\" y=\"210\" width=\"15\" height=\"15\" fill=\"rgb(255,34,34)\"/><rect x=\"195\" y=\"210\" width=\"15\" height=\"15\" fill=\"rgb(255,25,25)\"/><rect x=\"210\" y=\"210\" width=\"15\" height=\"15\" fill=\"rgb(255,17,17)\"/><rect x=\"225\" y=\"210\" width=\"15\" height=\"15\" fill=\"rgb(255,8,8)\"/><rect x=\"0\" y=\"225\" width=\"15\" height=\"15\" fill=\"rgb(255,127,127)\"/><rect x=\"15\" y=\"225\" width=\"15\" height=\"15\" fill=\"rgb(255,119,119)\"/><rect x=\"30\" y=\"225\" width=\"15\" height=\"15\" fill=\"rgb(255,110,110)\"/><rect x=\"45\" y=\"225\" width=\"15\" height=\"15\" fill=\"rgb(255,102,102)\"/><rect x=\"60\" y=\"225\" width=\"15\" height=\"15\" fill=\"rgb(255,93,93)\"/><rect x=\"75\" y=\"225\" width=\"15\" height=\"15\" fill=\"rgb(255,85,85)\"/><rect x=\"90\" y=\"225\" width=\"15\" height=\"15\" fill=\"rgb(255,76,76)\"/><rect x=\"105\" y=\"225\" width=\"15\" height=\"15\" fill=\"rgb(255,68,68)\"/><rect x=\"120\" y=\"225\" width=\"15\" height=\"15\" fill=\"rgb(255,59,59)\"/><rect x=\"135\" y=\"225\" width=\"15\" height=\"15\" fill=\"rgb(255,51,51)\"/><rect x=\"150\" y=\"225\" width=\"15\" height=\"15\" fill=\"rgb(255,42,42)\"/><rect x=\"165\" y=\"225\" width=\"15\" height=\"15\" fill=\"rgb(255,34,34)\"/><rect x=\"180\" y=\"225\" width=\"15\" height=\"15\" fill=\"rgb(255,25,25)\"/><rect x=\"195\" y=\"225\" width=\"15\" height=\"15\" fill=\"rgb(255,17,17)\"/><rect x=\"210\" y=\"225\" width=\"15\" height=\"15\" fill=\"rgb(255,8,8)\"/><rect x=\"225\" y=\"225\" width=\"15\" height=\"15\" fill=\"rgb(255,0,0)\"/></svg>"
      ],
      "text/plain": [
       "<IPython.core.display.HTML object>"
      ]
     },
     "metadata": {}
    }
   ],
   "metadata": {}
  },
  {
   "cell_type": "code",
   "execution_count": 63,
   "source": [
    "experiment = Experiment(16)\n",
    "experiment.setUp(0)\n",
    "m_cell = experiment.cells[50]\n",
    "print(m_cell.x_pos,m_cell.y_pos)\n",
    "m_cell.search_res(2)"
   ],
   "outputs": [
    {
     "output_type": "stream",
     "name": "stdout",
     "text": [
      "2 3\n",
      "here 2\n",
      "6 3 3 0\n",
      "7 3 3 0\n",
      "4 0 3 1\n",
      "3 0 3 1\n",
      "4 1 3 2\n",
      "3 1 3 2\n",
      "6 2 3 3\n",
      "7 2 3 3\n",
      "\n",
      "[7, 1, <__main__.Cell object at 0x7f9f102ae5e0>]\n",
      "2 3\n"
     ]
    }
   ],
   "metadata": {}
  },
  {
   "cell_type": "code",
   "execution_count": null,
   "source": [],
   "outputs": [],
   "metadata": {}
  }
 ],
 "metadata": {
  "kernelspec": {
   "name": "python3",
   "display_name": "Python 3.9.5 64-bit"
  },
  "language_info": {
   "codemirror_mode": {
    "name": "ipython",
    "version": 3
   },
   "file_extension": ".py",
   "mimetype": "text/x-python",
   "name": "python",
   "nbconvert_exporter": "python",
   "pygments_lexer": "ipython3",
   "version": "3.9.5"
  },
  "interpreter": {
   "hash": "31f2aee4e71d21fbe5cf8b01ff0e069b9275f58929596ceb00d14d90e3e16cd6"
  }
 },
 "nbformat": 4,
 "nbformat_minor": 5
}