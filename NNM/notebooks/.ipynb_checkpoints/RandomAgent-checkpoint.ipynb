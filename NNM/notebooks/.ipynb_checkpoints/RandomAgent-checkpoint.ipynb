{
 "cells": [
  {
   "cell_type": "code",
   "execution_count": 1,
   "id": "d7dd6cbd",
   "metadata": {},
   "outputs": [],
   "source": [
    "from IPython.display import display, HTML,clear_output\n",
    "import random as rnd\n",
    "import time"
   ]
  },
  {
   "cell_type": "code",
   "execution_count": 2,
   "id": "ca25692e",
   "metadata": {},
   "outputs": [],
   "source": [
    "class SVGCanvas:\n",
    "    def __init__(self,width,height,size):\n",
    "        self.width = width\n",
    "        self.height = height\n",
    "        self.size = size\n",
    "        self.html_s =\"\"\n",
    "    \n",
    "    def clear(self):\n",
    "        self.html_s = '<svg width=\"'+str(self.width)+'\" height=\"'+str(self.height)+'\"style=\"border:1px solid black\">'\n",
    "\n",
    "    def circle(self,x_pos,y_pos,color):\n",
    "        x_pos = x_pos/self.size\n",
    "        y_pos = y_pos/self.size\n",
    "        r = 1/(self.size*2)\n",
    "        str_int_x = str(int((x_pos*self.width)+(r*self.width)))\n",
    "        str_int_y = str(int((y_pos*self.height)+(r*self.width)))\n",
    "        str_int_r = str(int(r*self.width))\n",
    "        self.html_s +='<circle cx=\"'+str_int_x+'\" cy=\"'+str_int_y+'\" r=\"'+str_int_r+'\" fill=\"'+color+'\"/>'\n",
    "    \n",
    "    def rect(self,x_pos,y_pos,color):\n",
    "        x_pos = x_pos/self.size\n",
    "        y_pos = y_pos/self.size\n",
    "        height = 1/self.size\n",
    "        width = 1/self.size\n",
    "        str_int_x = str(int(x_pos*self.width))\n",
    "        str_int_y = str(int(y_pos*self.height))\n",
    "        str_int_width = str(int(width*self.width))\n",
    "        str_int_height = str(int(height*self.height))\n",
    "        self.html_s +='<rect x=\"'+str_int_x+'\" y=\"'+str_int_y+'\" width=\"'+str_int_width+'\" height=\"'+str_int_height+'\" fill=\"'+color+'\"/>'\n",
    "\n",
    "    def getCanvas(self):\n",
    "        self.html_s += \"</svg>\"\n",
    "        return HTML(self.html_s)"
   ]
  },
  {
   "cell_type": "code",
   "execution_count": 3,
   "id": "52df08e2",
   "metadata": {},
   "outputs": [
    {
     "data": {
      "text/html": [
       "<svg width=\"300\" height=\"300\"style=\"border:1px solid black\"><rect x=\"84\" y=\"0\" width=\"9\" height=\"9\" fill=\"rgb(255, 99, 71)\"/><rect x=\"46\" y=\"46\" width=\"9\" height=\"9\" fill=\"rgb(255, 99, 71)\"/><circle cx=\"70\" cy=\"32\" r=\"4\" fill=\"blue\"/></svg>"
      ],
      "text/plain": [
       "<IPython.core.display.HTML object>"
      ]
     },
     "metadata": {},
     "output_type": "display_data"
    },
    {
     "name": "stdout",
     "output_type": "stream",
     "text": [
      "done\n"
     ]
    }
   ],
   "source": [
    "svg = SVGCanvas(300,300,32)\n",
    "for _ in range(100):\n",
    "    svg.clear()\n",
    "    svg.rect(9,0,'rgb(255, 99, 71)')\n",
    "    svg.rect(5,5,'rgb(255, 99, 71)')\n",
    "    svg.circle(rnd.randint(0,9),rnd.randint(0,9),'blue')\n",
    "    clear_output(wait=True)\n",
    "    display(svg.getCanvas())\n",
    "print(\"done\")"
   ]
  },
  {
   "cell_type": "code",
   "execution_count": 1,
   "id": "d11e57f9",
   "metadata": {},
   "outputs": [],
   "source": [
    "class Counter:\n",
    "    def __init__(self):\n",
    "        self.tnow =0\n",
    "        self.tnext = 1\n",
    "        \n",
    "    def update(self):\n",
    "        # This switches the 0 1 state of now and next\n",
    "        self.tnow = (self.tnow+1) % 2\n",
    "        self.tnext = (self.tnext+1) % 2"
   ]
  },
  {
   "cell_type": "code",
   "execution_count": null,
   "id": "5cf687c4",
   "metadata": {},
   "outputs": [],
   "source": [
    "class Cell:\n",
    "    def __init__(self,x_pos,y_pos,svg,counter):\n",
    "        self.neighbours = []\n",
    "        self.number_of_neighbours=-1\n",
    "        self.x_pos = x_pos\n",
    "        self.y_pos = y_pos\n",
    "        self.svg = svg\n",
    "        self.resources = [0.0,0.0]\n",
    "        self.counter = counter\n",
    "        self.occupant = None\n",
    "        \n",
    "    def addNeighbour(self,cell):\n",
    "        self.neighbours.append(cell)\n",
    "        self.number_neighbours+=1\n",
    "\n",
    "        \n",
    "        \n",
    "        \n",
    "        \n",
    "        \n",
    "        \n",
    "        \n",
    "        "
   ]
  },
  {
   "cell_type": "code",
   "execution_count": null,
   "id": "00db93be",
   "metadata": {},
   "outputs": [],
   "source": [
    "class Agent:\n",
    "    def __init__(self.counter,home):\n",
    "        self.home = home\n",
    "        self.counter = counter\n",
    "        \n",
    "    "
   ]
  }
 ],
 "metadata": {
  "kernelspec": {
   "display_name": "Python 3.9.6 64-bit ('base': conda)",
   "language": "python",
   "name": "python396jvsc74a57bd0d938e4dfd622acf93db5716bbd56f6d72cf113e3eefb4cd1b4643855557dcb02"
  },
  "language_info": {
   "codemirror_mode": {
    "name": "ipython",
    "version": 3
   },
   "file_extension": ".py",
   "mimetype": "text/x-python",
   "name": "python",
   "nbconvert_exporter": "python",
   "pygments_lexer": "ipython3",
   "version": "3.9.6"
  }
 },
 "nbformat": 4,
 "nbformat_minor": 5
}
